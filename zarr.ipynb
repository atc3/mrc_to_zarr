{
 "cells": [
  {
   "cell_type": "code",
   "execution_count": 1,
   "metadata": {},
   "outputs": [],
   "source": [
    "\n",
    "import numpy as np\n",
    "import mrcfile\n",
    "from IPython.display import Image\n",
    "import matplotlib.pyplot as plt\n",
    "import matplotlib as mpl\n",
    "import zarr"
   ]
  },
  {
   "cell_type": "code",
   "execution_count": 2,
   "metadata": {},
   "outputs": [],
   "source": [
    "filename = '/Users/atchen/Downloads/50451_downsampled_bin10.mrc'\n",
    "\n",
    "mrc = mrcfile.mmap(filename, mode='r+')"
   ]
  },
  {
   "cell_type": "code",
   "execution_count": 3,
   "metadata": {},
   "outputs": [
    {
     "data": {
      "text/plain": [
       "(659, 1533, 1017)"
      ]
     },
     "execution_count": 3,
     "metadata": {},
     "output_type": "execute_result"
    }
   ],
   "source": [
    "mrc.data.shape"
   ]
  },
  {
   "cell_type": "code",
   "execution_count": 6,
   "metadata": {},
   "outputs": [
    {
     "data": {
      "text/plain": [
       "numpy.int8"
      ]
     },
     "execution_count": 6,
     "metadata": {},
     "output_type": "execute_result"
    }
   ],
   "source": [
    "mrc.data[0, 0, 0]"
   ]
  },
  {
   "cell_type": "code",
   "execution_count": 30,
   "metadata": {},
   "outputs": [],
   "source": [
    "from numcodecs import Blosc"
   ]
  },
  {
   "cell_type": "code",
   "execution_count": 32,
   "metadata": {},
   "outputs": [
    {
     "data": {
      "text/plain": [
       "<zarr.core.Array (659, 1533, 1017) uint8>"
      ]
     },
     "execution_count": 32,
     "metadata": {},
     "output_type": "execute_result"
    }
   ],
   "source": [
    "compressor = Blosc(cname='lz4', clevel=5, shuffle=Blosc.BITSHUFFLE)\n",
    "z = zarr.array(np.array(mrc.data, dtype='uint8'), chunks=(64, 128, 128), compressor=compressor)\n",
    "z"
   ]
  },
  {
   "cell_type": "code",
   "execution_count": 33,
   "metadata": {},
   "outputs": [
    {
     "data": {
      "text/html": [
       "<table class=\"zarr-info\"><tbody><tr><th style=\"text-align: left\">Type</th><td style=\"text-align: left\">zarr.core.Array</td></tr><tr><th style=\"text-align: left\">Data type</th><td style=\"text-align: left\">uint8</td></tr><tr><th style=\"text-align: left\">Shape</th><td style=\"text-align: left\">(659, 1533, 1017)</td></tr><tr><th style=\"text-align: left\">Chunk shape</th><td style=\"text-align: left\">(64, 128, 128)</td></tr><tr><th style=\"text-align: left\">Order</th><td style=\"text-align: left\">C</td></tr><tr><th style=\"text-align: left\">Read-only</th><td style=\"text-align: left\">False</td></tr><tr><th style=\"text-align: left\">Compressor</th><td style=\"text-align: left\">Blosc(cname='lz4', clevel=5, shuffle=BITSHUFFLE, blocksize=0)</td></tr><tr><th style=\"text-align: left\">Store type</th><td style=\"text-align: left\">zarr.storage.KVStore</td></tr><tr><th style=\"text-align: left\">No. bytes</th><td style=\"text-align: left\">1027421199 (979.8M)</td></tr><tr><th style=\"text-align: left\">No. bytes stored</th><td style=\"text-align: left\">1004139106 (957.6M)</td></tr><tr><th style=\"text-align: left\">Storage ratio</th><td style=\"text-align: left\">1.0</td></tr><tr><th style=\"text-align: left\">Chunks initialized</th><td style=\"text-align: left\">1056/1056</td></tr></tbody></table>"
      ],
      "text/plain": [
       "Type               : zarr.core.Array\n",
       "Data type          : uint8\n",
       "Shape              : (659, 1533, 1017)\n",
       "Chunk shape        : (64, 128, 128)\n",
       "Order              : C\n",
       "Read-only          : False\n",
       "Compressor         : Blosc(cname='lz4', clevel=5, shuffle=BITSHUFFLE,\n",
       "                   : blocksize=0)\n",
       "Store type         : zarr.storage.KVStore\n",
       "No. bytes          : 1027421199 (979.8M)\n",
       "No. bytes stored   : 1004139106 (957.6M)\n",
       "Storage ratio      : 1.0\n",
       "Chunks initialized : 1056/1056"
      ]
     },
     "execution_count": 33,
     "metadata": {},
     "output_type": "execute_result"
    }
   ],
   "source": [
    "z.info"
   ]
  },
  {
   "cell_type": "code",
   "execution_count": 43,
   "metadata": {},
   "outputs": [],
   "source": [
    "from scipy.ndimage import zoom"
   ]
  },
  {
   "cell_type": "code",
   "execution_count": 46,
   "metadata": {},
   "outputs": [],
   "source": [
    "s0 = np.array(mrc.data, dtype='uint8')\n",
    "s1 = zoom(s0, 0.5)"
   ]
  },
  {
   "cell_type": "code",
   "execution_count": 47,
   "metadata": {},
   "outputs": [
    {
     "data": {
      "text/plain": [
       "(330, 766, 508)"
      ]
     },
     "execution_count": 47,
     "metadata": {},
     "output_type": "execute_result"
    }
   ],
   "source": [
    "s1.shape"
   ]
  },
  {
   "cell_type": "code",
   "execution_count": 48,
   "metadata": {},
   "outputs": [
    {
     "data": {
      "text/plain": [
       "dtype('uint8')"
      ]
     },
     "execution_count": 48,
     "metadata": {},
     "output_type": "execute_result"
    }
   ],
   "source": [
    "s1.dtype"
   ]
  },
  {
   "cell_type": "code",
   "execution_count": 55,
   "metadata": {},
   "outputs": [],
   "source": [
    "store = zarr.DirectoryStore('/Users/atchen/mrc/50451.zarr')\n",
    "root = zarr.group(store=store, overwrite=True)\n",
    "fibsem_group = root.create_group('fibsem-uint8')\n",
    "\n",
    "\"\"\"\n",
    "\"axes\": [\"x\", \"y\", \"z\"],\n",
    "\"units\": [\"nm\", \"nm\", \"nm\"],\n",
    "\"pixelResolution\": {\n",
    "    \"dimensions\": [4, 4, 4],\n",
    "    \"unit\": \"nm\"\n",
    "},\n",
    "\"ordering\": \"F\",\n",
    "\"scales\": [\n",
    "    [1, 1, 1],\n",
    "    [2, 2, 2],\n",
    "    [4, 4, 4],\n",
    "    [8, 8, 8],\n",
    "    [16, 16, 16],\n",
    "    [32, 32, 32]\n",
    "],\n",
    "\"multiscales\": [\n",
    "{\n",
    "    \"datasets\": [\n",
    "    {\n",
    "        \"path\": \"s0\",\n",
    "        \"transform\": {\n",
    "        \"axes\": [\"z\", \"y\", \"x\"],\n",
    "        \"scale\": [4.0, 4.0, 4.0],\n",
    "        \"translate\": [0.0, 0.0, 0.0],\n",
    "        \"units\": [\"nm\", \"nm\", \"nm\"]\n",
    "        },\n",
    "        \"compression\": {\n",
    "        \"type\": \"gzip\",\n",
    "        \"useZlib\": false,\n",
    "        \"level\": -1\n",
    "        },\n",
    "        \"blockSize\": [128, 128, 64],\n",
    "        \"dataType\": \"uint8\",\n",
    "        \"dimensions\": [4000, 3500, 2000]\n",
    "    },\n",
    "...\n",
    "\"\"\"\n",
    "\n",
    "fibsem_group.attrs['axes'] = ['z', 'y', 'x']\n",
    "fibsem_group.attrs['units'] = ['nm', 'nm', 'nm']\n",
    "fibsem_group.attrs['pixelResolution'] = {'dimensions': [40, 40, 40], 'unit': 'nm'}\n",
    "# fibsem_group.attrs['ordering'] = 'F'\n",
    "# fibsem_group.attrs['scales'] = [[1, 1, 1], [2, 2, 2], [4, 4, 4], [8, 8, 8], [16, 16, 16], [32, 32, 32]]\n",
    "fibsem_group.attrs['scales'] = [[1, 1, 1], [2, 2, 2]]\n",
    "fibsem_group.attrs['multiscales'] = [{\n",
    "    \"version\": \"0.4\",\n",
    "    \"name\": \"fibsem-uint8\",\n",
    "    \"axes\": [\n",
    "        # {\"name\": \"t\", \"type\": \"time\", \"unit\": \"millisecond\"},\n",
    "        # {\"name\": \"c\", \"type\": \"channel\"},\n",
    "        {\"name\": \"z\", \"type\": \"space\", \"unit\": \"nanometer\"},\n",
    "        {\"name\": \"y\", \"type\": \"space\", \"unit\": \"nanometer\"},\n",
    "        {\"name\": \"x\", \"type\": \"space\", \"unit\": \"nanometer\"}\n",
    "    ],\n",
    "    'datasets': [\n",
    "        {\n",
    "        'path': 's0',\n",
    "        \"coordinateTransformations\": [{\n",
    "            \"type\": \"scale\",\n",
    "            \"scale\": [40.0, 40.0, 40.0]\n",
    "        }],\n",
    "        'compression': {\n",
    "            'type': 'blosc',\n",
    "            'cname': 'lz4',\n",
    "            'clevel': 5,\n",
    "            'shuffle': 'bit',\n",
    "        },\n",
    "        'blockSize': [64, 128, 128],\n",
    "        'dataType': 'uint8',\n",
    "        'dimensions': list(s0.shape)\n",
    "    },\n",
    "    {\n",
    "        'path': 's1',\n",
    "        \"coordinateTransformations\": [{\n",
    "            \"type\": \"scale\",\n",
    "            \"scale\": [80.0, 80.0, 80.0]\n",
    "        }],\n",
    "        'compression': {\n",
    "            'type': 'blosc',\n",
    "            'cname': 'lz4',\n",
    "            'clevel': 5,\n",
    "            'shuffle': 'bit',\n",
    "        },\n",
    "        'blockSize': [64, 128, 128],\n",
    "        'dataType': 'uint8',\n",
    "        'dimensions': list(s1.shape)\n",
    "    }\n",
    "    ],\n",
    "    \"coordinateTransformations\": [{\n",
    "        \"type\": \"scale\",\n",
    "        \"scale\": [1.0, 1.0, 1.0]\n",
    "    }],\n",
    "    \"type\": \"gaussian\",\n",
    "}]\n",
    "\n",
    "\n"
   ]
  },
  {
   "cell_type": "code",
   "execution_count": 56,
   "metadata": {},
   "outputs": [],
   "source": [
    "z0 = fibsem_group.array('s0', s0, chunks=(64, 128, 128), compressor=compressor)\n",
    "z1 = fibsem_group.array('s1', s1, chunks=(64, 128, 128), compressor=compressor)"
   ]
  },
  {
   "cell_type": "code",
   "execution_count": 57,
   "metadata": {},
   "outputs": [],
   "source": [
    "store.close()"
   ]
  },
  {
   "cell_type": "code",
   "execution_count": null,
   "metadata": {},
   "outputs": [],
   "source": []
  }
 ],
 "metadata": {
  "kernelspec": {
   "display_name": "base",
   "language": "python",
   "name": "python3"
  },
  "language_info": {
   "codemirror_mode": {
    "name": "ipython",
    "version": 3
   },
   "file_extension": ".py",
   "mimetype": "text/x-python",
   "name": "python",
   "nbconvert_exporter": "python",
   "pygments_lexer": "ipython3",
   "version": "3.8.18"
  }
 },
 "nbformat": 4,
 "nbformat_minor": 2
}
